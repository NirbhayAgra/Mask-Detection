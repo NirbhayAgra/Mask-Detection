{
 "cells": [
  {
   "cell_type": "code",
   "execution_count": null,
   "metadata": {},
   "outputs": [],
   "source": []
  },
  {
   "cell_type": "code",
   "execution_count": 2,
   "metadata": {},
   "outputs": [],
   "source": [
    "import os"
   ]
  },
  {
   "cell_type": "code",
   "execution_count": 3,
   "metadata": {},
   "outputs": [],
   "source": [
    "import numpy as np"
   ]
  },
  {
   "cell_type": "code",
   "execution_count": 4,
   "metadata": {},
   "outputs": [
    {
     "name": "stderr",
     "output_type": "stream",
     "text": [
      "Using TensorFlow backend.\n",
      "C:\\Users\\yuggu\\anaconda3\\lib\\site-packages\\tensorflow\\python\\framework\\dtypes.py:516: FutureWarning: Passing (type, 1) or '1type' as a synonym of type is deprecated; in a future version of numpy, it will be understood as (type, (1,)) / '(1,)type'.\n",
      "  _np_qint8 = np.dtype([(\"qint8\", np.int8, 1)])\n",
      "C:\\Users\\yuggu\\anaconda3\\lib\\site-packages\\tensorflow\\python\\framework\\dtypes.py:517: FutureWarning: Passing (type, 1) or '1type' as a synonym of type is deprecated; in a future version of numpy, it will be understood as (type, (1,)) / '(1,)type'.\n",
      "  _np_quint8 = np.dtype([(\"quint8\", np.uint8, 1)])\n",
      "C:\\Users\\yuggu\\anaconda3\\lib\\site-packages\\tensorflow\\python\\framework\\dtypes.py:518: FutureWarning: Passing (type, 1) or '1type' as a synonym of type is deprecated; in a future version of numpy, it will be understood as (type, (1,)) / '(1,)type'.\n",
      "  _np_qint16 = np.dtype([(\"qint16\", np.int16, 1)])\n",
      "C:\\Users\\yuggu\\anaconda3\\lib\\site-packages\\tensorflow\\python\\framework\\dtypes.py:519: FutureWarning: Passing (type, 1) or '1type' as a synonym of type is deprecated; in a future version of numpy, it will be understood as (type, (1,)) / '(1,)type'.\n",
      "  _np_quint16 = np.dtype([(\"quint16\", np.uint16, 1)])\n",
      "C:\\Users\\yuggu\\anaconda3\\lib\\site-packages\\tensorflow\\python\\framework\\dtypes.py:520: FutureWarning: Passing (type, 1) or '1type' as a synonym of type is deprecated; in a future version of numpy, it will be understood as (type, (1,)) / '(1,)type'.\n",
      "  _np_qint32 = np.dtype([(\"qint32\", np.int32, 1)])\n",
      "C:\\Users\\yuggu\\anaconda3\\lib\\site-packages\\tensorflow\\python\\framework\\dtypes.py:525: FutureWarning: Passing (type, 1) or '1type' as a synonym of type is deprecated; in a future version of numpy, it will be understood as (type, (1,)) / '(1,)type'.\n",
      "  np_resource = np.dtype([(\"resource\", np.ubyte, 1)])\n",
      "C:\\Users\\yuggu\\anaconda3\\lib\\site-packages\\tensorboard\\compat\\tensorflow_stub\\dtypes.py:541: FutureWarning: Passing (type, 1) or '1type' as a synonym of type is deprecated; in a future version of numpy, it will be understood as (type, (1,)) / '(1,)type'.\n",
      "  _np_qint8 = np.dtype([(\"qint8\", np.int8, 1)])\n",
      "C:\\Users\\yuggu\\anaconda3\\lib\\site-packages\\tensorboard\\compat\\tensorflow_stub\\dtypes.py:542: FutureWarning: Passing (type, 1) or '1type' as a synonym of type is deprecated; in a future version of numpy, it will be understood as (type, (1,)) / '(1,)type'.\n",
      "  _np_quint8 = np.dtype([(\"quint8\", np.uint8, 1)])\n",
      "C:\\Users\\yuggu\\anaconda3\\lib\\site-packages\\tensorboard\\compat\\tensorflow_stub\\dtypes.py:543: FutureWarning: Passing (type, 1) or '1type' as a synonym of type is deprecated; in a future version of numpy, it will be understood as (type, (1,)) / '(1,)type'.\n",
      "  _np_qint16 = np.dtype([(\"qint16\", np.int16, 1)])\n",
      "C:\\Users\\yuggu\\anaconda3\\lib\\site-packages\\tensorboard\\compat\\tensorflow_stub\\dtypes.py:544: FutureWarning: Passing (type, 1) or '1type' as a synonym of type is deprecated; in a future version of numpy, it will be understood as (type, (1,)) / '(1,)type'.\n",
      "  _np_quint16 = np.dtype([(\"quint16\", np.uint16, 1)])\n",
      "C:\\Users\\yuggu\\anaconda3\\lib\\site-packages\\tensorboard\\compat\\tensorflow_stub\\dtypes.py:545: FutureWarning: Passing (type, 1) or '1type' as a synonym of type is deprecated; in a future version of numpy, it will be understood as (type, (1,)) / '(1,)type'.\n",
      "  _np_qint32 = np.dtype([(\"qint32\", np.int32, 1)])\n",
      "C:\\Users\\yuggu\\anaconda3\\lib\\site-packages\\tensorboard\\compat\\tensorflow_stub\\dtypes.py:550: FutureWarning: Passing (type, 1) or '1type' as a synonym of type is deprecated; in a future version of numpy, it will be understood as (type, (1,)) / '(1,)type'.\n",
      "  np_resource = np.dtype([(\"resource\", np.ubyte, 1)])\n"
     ]
    }
   ],
   "source": [
    "from keras.utils import np_utils"
   ]
  },
  {
   "cell_type": "code",
   "execution_count": 5,
   "metadata": {},
   "outputs": [],
   "source": [
    "import cv2"
   ]
  },
  {
   "cell_type": "code",
   "execution_count": 6,
   "metadata": {},
   "outputs": [],
   "source": [
    "import tensorflow as tf"
   ]
  },
  {
   "cell_type": "code",
   "execution_count": null,
   "metadata": {},
   "outputs": [],
   "source": []
  },
  {
   "cell_type": "code",
   "execution_count": 5,
   "metadata": {},
   "outputs": [],
   "source": []
  },
  {
   "cell_type": "code",
   "execution_count": null,
   "metadata": {},
   "outputs": [],
   "source": []
  },
  {
   "cell_type": "code",
   "execution_count": 7,
   "metadata": {},
   "outputs": [
    {
     "name": "stdout",
     "output_type": "stream",
     "text": [
      "{'with mask': 0, 'without mask': 1}\n",
      "['with mask', 'without mask']\n",
      "[0, 1]\n"
     ]
    }
   ],
   "source": [
    "import cv2,os\n",
    "data_path = 'C:\\dataset'\n",
    "categories = os.listdir(data_path)\n",
    "labels = [i for i in range(len(categories))]\n",
    "label_dict = dict(zip(categories,labels))\n",
    "print(label_dict)\n",
    "print(categories)\n",
    "print(labels)"
   ]
  },
  {
   "cell_type": "code",
   "execution_count": 8,
   "metadata": {},
   "outputs": [],
   "source": [
    "img_size = 100\n",
    "data = []\n",
    "target = []\n",
    "for category in categories:\n",
    "    folder_path = os.path.join(data_path,category)\n",
    "    img_names = os.listdir(folder_path)\n",
    "    for img_name in img_names:\n",
    "        img_path = os.path.join(folder_path,img_name)\n",
    "        img = cv2.imread(img_path)\n",
    "        #print(img_path)\n",
    "        try:\n",
    "            gray = cv2.cvtColor(img,cv2.COLOR_BGR2GRAY)\n",
    "            resized = cv2.resize(gray,(img_size,img_size))\n",
    "            data.append(resized)\n",
    "            target.append(label_dict[category])\n",
    "            #print(target)\n",
    "        except:\n",
    "            pass"
   ]
  },
  {
   "cell_type": "code",
   "execution_count": 9,
   "metadata": {},
   "outputs": [],
   "source": [
    "import numpy as np\n",
    "data = np.array(data)/255.0\n",
    "data = np.reshape(data,(data.shape[0],img_size,img_size,1))\n",
    "target = np.array(target)\n",
    "\n",
    "from keras.utils import np_utils\n",
    "new_target = np_utils.to_categorical(target)"
   ]
  },
  {
   "cell_type": "code",
   "execution_count": 10,
   "metadata": {},
   "outputs": [],
   "source": [
    "np.save('data',data)\n",
    "np.save('target',new_target)"
   ]
  },
  {
   "cell_type": "code",
   "execution_count": 11,
   "metadata": {},
   "outputs": [
    {
     "name": "stdout",
     "output_type": "stream",
     "text": [
      "[[[[0.35686275]\n",
      "   [0.34117647]\n",
      "   [0.38039216]\n",
      "   ...\n",
      "   [0.34509804]\n",
      "   [0.34117647]\n",
      "   [0.3254902 ]]\n",
      "\n",
      "  [[0.35294118]\n",
      "   [0.3372549 ]\n",
      "   [0.36470588]\n",
      "   ...\n",
      "   [0.33333333]\n",
      "   [0.32156863]\n",
      "   [0.33333333]]\n",
      "\n",
      "  [[0.3372549 ]\n",
      "   [0.34901961]\n",
      "   [0.35686275]\n",
      "   ...\n",
      "   [0.52941176]\n",
      "   [0.46666667]\n",
      "   [0.37254902]]\n",
      "\n",
      "  ...\n",
      "\n",
      "  [[0.45882353]\n",
      "   [0.4745098 ]\n",
      "   [0.47843137]\n",
      "   ...\n",
      "   [0.65490196]\n",
      "   [0.65098039]\n",
      "   [0.61960784]]\n",
      "\n",
      "  [[0.45882353]\n",
      "   [0.47843137]\n",
      "   [0.47843137]\n",
      "   ...\n",
      "   [0.60784314]\n",
      "   [0.60784314]\n",
      "   [0.56078431]]\n",
      "\n",
      "  [[0.43137255]\n",
      "   [0.44313725]\n",
      "   [0.45490196]\n",
      "   ...\n",
      "   [0.61176471]\n",
      "   [0.58431373]\n",
      "   [0.59215686]]]\n",
      "\n",
      "\n",
      " [[[0.00784314]\n",
      "   [0.00784314]\n",
      "   [0.01176471]\n",
      "   ...\n",
      "   [0.01568627]\n",
      "   [0.01568627]\n",
      "   [0.01568627]]\n",
      "\n",
      "  [[0.00784314]\n",
      "   [0.00784314]\n",
      "   [0.01176471]\n",
      "   ...\n",
      "   [0.01960784]\n",
      "   [0.01960784]\n",
      "   [0.01568627]]\n",
      "\n",
      "  [[0.00784314]\n",
      "   [0.00784314]\n",
      "   [0.01568627]\n",
      "   ...\n",
      "   [0.01568627]\n",
      "   [0.01568627]\n",
      "   [0.01568627]]\n",
      "\n",
      "  ...\n",
      "\n",
      "  [[0.19607843]\n",
      "   [0.19215686]\n",
      "   [0.18823529]\n",
      "   ...\n",
      "   [0.5372549 ]\n",
      "   [0.51764706]\n",
      "   [0.52156863]]\n",
      "\n",
      "  [[0.19607843]\n",
      "   [0.18431373]\n",
      "   [0.18431373]\n",
      "   ...\n",
      "   [0.54509804]\n",
      "   [0.49019608]\n",
      "   [0.5372549 ]]\n",
      "\n",
      "  [[0.19607843]\n",
      "   [0.18823529]\n",
      "   [0.18431373]\n",
      "   ...\n",
      "   [0.55686275]\n",
      "   [0.55686275]\n",
      "   [0.57647059]]]\n",
      "\n",
      "\n",
      " [[[0.69019608]\n",
      "   [0.69411765]\n",
      "   [0.69411765]\n",
      "   ...\n",
      "   [0.45490196]\n",
      "   [0.4627451 ]\n",
      "   [0.46666667]]\n",
      "\n",
      "  [[0.69019608]\n",
      "   [0.69411765]\n",
      "   [0.69411765]\n",
      "   ...\n",
      "   [0.43529412]\n",
      "   [0.44313725]\n",
      "   [0.45098039]]\n",
      "\n",
      "  [[0.67843137]\n",
      "   [0.68235294]\n",
      "   [0.69019608]\n",
      "   ...\n",
      "   [0.42745098]\n",
      "   [0.42745098]\n",
      "   [0.4627451 ]]\n",
      "\n",
      "  ...\n",
      "\n",
      "  [[0.16862745]\n",
      "   [0.15294118]\n",
      "   [0.16862745]\n",
      "   ...\n",
      "   [0.25098039]\n",
      "   [0.23921569]\n",
      "   [0.24705882]]\n",
      "\n",
      "  [[0.16470588]\n",
      "   [0.16470588]\n",
      "   [0.17254902]\n",
      "   ...\n",
      "   [0.25490196]\n",
      "   [0.25882353]\n",
      "   [0.2745098 ]]\n",
      "\n",
      "  [[0.16470588]\n",
      "   [0.16470588]\n",
      "   [0.17647059]\n",
      "   ...\n",
      "   [0.27843137]\n",
      "   [0.27058824]\n",
      "   [0.25490196]]]\n",
      "\n",
      "\n",
      " ...\n",
      "\n",
      "\n",
      " [[[0.69411765]\n",
      "   [0.6627451 ]\n",
      "   [0.65490196]\n",
      "   ...\n",
      "   [0.32941176]\n",
      "   [0.4627451 ]\n",
      "   [0.49411765]]\n",
      "\n",
      "  [[0.69019608]\n",
      "   [0.67843137]\n",
      "   [0.68235294]\n",
      "   ...\n",
      "   [0.42352941]\n",
      "   [0.49803922]\n",
      "   [0.53333333]]\n",
      "\n",
      "  [[0.6627451 ]\n",
      "   [0.68235294]\n",
      "   [0.68235294]\n",
      "   ...\n",
      "   [0.45882353]\n",
      "   [0.50980392]\n",
      "   [0.58039216]]\n",
      "\n",
      "  ...\n",
      "\n",
      "  [[0.6       ]\n",
      "   [0.62745098]\n",
      "   [0.58039216]\n",
      "   ...\n",
      "   [0.69803922]\n",
      "   [0.70980392]\n",
      "   [0.72941176]]\n",
      "\n",
      "  [[0.52156863]\n",
      "   [0.65490196]\n",
      "   [0.59607843]\n",
      "   ...\n",
      "   [0.30980392]\n",
      "   [0.32156863]\n",
      "   [0.42745098]]\n",
      "\n",
      "  [[0.59607843]\n",
      "   [0.64313725]\n",
      "   [0.53333333]\n",
      "   ...\n",
      "   [0.34901961]\n",
      "   [0.33333333]\n",
      "   [0.36078431]]]\n",
      "\n",
      "\n",
      " [[[0.29803922]\n",
      "   [0.31372549]\n",
      "   [0.3372549 ]\n",
      "   ...\n",
      "   [0.24313725]\n",
      "   [0.20392157]\n",
      "   [0.21176471]]\n",
      "\n",
      "  [[0.31372549]\n",
      "   [0.32941176]\n",
      "   [0.36470588]\n",
      "   ...\n",
      "   [0.25098039]\n",
      "   [0.22352941]\n",
      "   [0.20784314]]\n",
      "\n",
      "  [[0.31764706]\n",
      "   [0.33333333]\n",
      "   [0.36470588]\n",
      "   ...\n",
      "   [0.21568627]\n",
      "   [0.20392157]\n",
      "   [0.18823529]]\n",
      "\n",
      "  ...\n",
      "\n",
      "  [[0.55686275]\n",
      "   [0.56078431]\n",
      "   [0.58823529]\n",
      "   ...\n",
      "   [0.72941176]\n",
      "   [0.71764706]\n",
      "   [0.70196078]]\n",
      "\n",
      "  [[0.54901961]\n",
      "   [0.54117647]\n",
      "   [0.5372549 ]\n",
      "   ...\n",
      "   [0.70588235]\n",
      "   [0.70980392]\n",
      "   [0.73333333]]\n",
      "\n",
      "  [[0.52156863]\n",
      "   [0.53333333]\n",
      "   [0.52156863]\n",
      "   ...\n",
      "   [0.71372549]\n",
      "   [0.69019608]\n",
      "   [0.74901961]]]\n",
      "\n",
      "\n",
      " [[[0.0745098 ]\n",
      "   [0.09019608]\n",
      "   [0.08627451]\n",
      "   ...\n",
      "   [0.13333333]\n",
      "   [0.14117647]\n",
      "   [0.17647059]]\n",
      "\n",
      "  [[0.06666667]\n",
      "   [0.08235294]\n",
      "   [0.08627451]\n",
      "   ...\n",
      "   [0.10980392]\n",
      "   [0.12941176]\n",
      "   [0.11764706]]\n",
      "\n",
      "  [[0.08627451]\n",
      "   [0.09019608]\n",
      "   [0.09019608]\n",
      "   ...\n",
      "   [0.1254902 ]\n",
      "   [0.16862745]\n",
      "   [0.11764706]]\n",
      "\n",
      "  ...\n",
      "\n",
      "  [[0.69411765]\n",
      "   [0.71372549]\n",
      "   [0.70980392]\n",
      "   ...\n",
      "   [0.4745098 ]\n",
      "   [0.29803922]\n",
      "   [0.30588235]]\n",
      "\n",
      "  [[0.69019608]\n",
      "   [0.69803922]\n",
      "   [0.68235294]\n",
      "   ...\n",
      "   [0.49019608]\n",
      "   [0.21176471]\n",
      "   [0.27058824]]\n",
      "\n",
      "  [[0.68627451]\n",
      "   [0.67058824]\n",
      "   [0.65490196]\n",
      "   ...\n",
      "   [0.31372549]\n",
      "   [0.35686275]\n",
      "   [0.18039216]]]]\n"
     ]
    }
   ],
   "source": [
    "print(data)"
   ]
  },
  {
   "cell_type": "code",
   "execution_count": 12,
   "metadata": {},
   "outputs": [
    {
     "name": "stdout",
     "output_type": "stream",
     "text": [
      "[[1. 0.]\n",
      " [1. 0.]\n",
      " [1. 0.]\n",
      " ...\n",
      " [0. 1.]\n",
      " [0. 1.]\n",
      " [0. 1.]]\n"
     ]
    }
   ],
   "source": [
    "print(new_target)"
   ]
  },
  {
   "cell_type": "code",
   "execution_count": 13,
   "metadata": {},
   "outputs": [],
   "source": [
    "import numpy as np\n",
    "data = np.load('data.npy')\n",
    "target = np.load('target.npy')"
   ]
  },
  {
   "cell_type": "code",
   "execution_count": 15,
   "metadata": {},
   "outputs": [
    {
     "name": "stdout",
     "output_type": "stream",
     "text": [
      "WARNING:tensorflow:From C:\\Users\\yuggu\\anaconda3\\lib\\site-packages\\keras\\backend\\tensorflow_backend.py:4070: The name tf.nn.max_pool is deprecated. Please use tf.nn.max_pool2d instead.\n",
      "\n"
     ]
    }
   ],
   "source": [
    "from keras.models import Sequential\n",
    "from keras.layers import Dense,Activation,Flatten,Dropout\n",
    "from keras.layers import Conv2D,MaxPooling2D\n",
    "from keras.callbacks import ModelCheckpoint\n",
    "model = Sequential()\n",
    "#1st conv layer of 3*3*200\n",
    "model.add(Conv2D(200,(3,3),input_shape = data.shape[1:]))\n",
    "model.add(Activation('relu')) \n",
    "model.add(MaxPooling2D(pool_size = (2,2)))\n",
    "#2nd conv layer of 3*3*100\n",
    "model.add(Conv2D(100,(3,3)))\n",
    "model.add(Activation('relu'))\n",
    "model.add(MaxPooling2D(pool_size = (2,2)))\n",
    "\n",
    "model.add(Flatten())\n",
    "model.add(Dropout(0.5))\n",
    "\n",
    "model.add(Dense(50,activation = 'relu'))\n",
    "model.add(Dense(2,activation = 'softmax'))\n",
    "\n",
    "model.compile(loss = 'categorical_crossentropy',optimizer = 'adam',metrics = ['accuracy'])"
   ]
  },
  {
   "cell_type": "code",
   "execution_count": 16,
   "metadata": {},
   "outputs": [],
   "source": [
    "from sklearn.model_selection import train_test_split\n",
    "train_data,test_data,train_target,test_target = train_test_split(data,target,test_size = 0.1)"
   ]
  },
  {
   "cell_type": "code",
   "execution_count": 17,
   "metadata": {},
   "outputs": [
    {
     "name": "stdout",
     "output_type": "stream",
     "text": [
      "WARNING:tensorflow:From C:\\Users\\yuggu\\anaconda3\\lib\\site-packages\\keras\\backend\\tensorflow_backend.py:422: The name tf.global_variables is deprecated. Please use tf.compat.v1.global_variables instead.\n",
      "\n",
      "Train on 4236 samples, validate on 1059 samples\n",
      "Epoch 1/10\n",
      "4236/4236 [==============================] - 283s 67ms/step - loss: 0.4128 - accuracy: 0.7934 - val_loss: 0.1256 - val_accuracy: 0.9575\n",
      "Epoch 2/10\n",
      "4236/4236 [==============================] - 223s 53ms/step - loss: 0.1227 - accuracy: 0.9540 - val_loss: 0.1156 - val_accuracy: 0.9622\n",
      "Epoch 3/10\n",
      "4236/4236 [==============================] - 222s 52ms/step - loss: 0.0880 - accuracy: 0.9700 - val_loss: 0.0852 - val_accuracy: 0.9688\n",
      "Epoch 4/10\n",
      "4236/4236 [==============================] - 221s 52ms/step - loss: 0.0841 - accuracy: 0.9698 - val_loss: 0.0884 - val_accuracy: 0.9660\n",
      "Epoch 5/10\n",
      "4236/4236 [==============================] - 222s 52ms/step - loss: 0.0595 - accuracy: 0.9790 - val_loss: 0.0744 - val_accuracy: 0.9754\n",
      "Epoch 6/10\n",
      "4236/4236 [==============================] - 222s 52ms/step - loss: 0.0571 - accuracy: 0.9790 - val_loss: 0.0744 - val_accuracy: 0.9754\n",
      "Epoch 7/10\n",
      "4236/4236 [==============================] - 214s 51ms/step - loss: 0.0596 - accuracy: 0.9778 - val_loss: 0.0715 - val_accuracy: 0.9745\n",
      "Epoch 8/10\n",
      "4236/4236 [==============================] - 212s 50ms/step - loss: 0.0412 - accuracy: 0.9842 - val_loss: 0.0832 - val_accuracy: 0.9717\n",
      "Epoch 9/10\n",
      "4236/4236 [==============================] - 212s 50ms/step - loss: 0.0405 - accuracy: 0.9875 - val_loss: 0.0644 - val_accuracy: 0.9773\n",
      "Epoch 10/10\n",
      "4236/4236 [==============================] - 212s 50ms/step - loss: 0.0297 - accuracy: 0.9894 - val_loss: 0.0575 - val_accuracy: 0.9839\n"
     ]
    }
   ],
   "source": [
    "checkpoint = ModelCheckpoint('model-{epoch:03d}.model',monitor = 'val_loss',verbose = 0,save_best_only = True,mode = 'auto')\n",
    "history = model.fit(train_data,train_target,epochs = 10,callbacks = [checkpoint],validation_split = 0.2)"
   ]
  },
  {
   "cell_type": "code",
   "execution_count": null,
   "metadata": {},
   "outputs": [],
   "source": [
    "from matplotlib import pyplot as plt\n"
   ]
  },
  {
   "cell_type": "code",
   "execution_count": 18,
   "metadata": {},
   "outputs": [
    {
     "data": {
      "image/png": "[encoded data removed]",
      "text/plain": [
       "<Figure size 432x288 with 1 Axes>"
      ]
     },
     "metadata": {
      "needs_background": "light"
     },
     "output_type": "display_data"
    }
   ],
   "source": [
    "plt.plot(history.history['loss'],label = 'Training Loss')\n",
    "plt.plot(history.history['val_loss'],label = 'Validation Loss')\n",
    "plt.xlabel('# epochs')\n",
    "plt.ylabel('loss')\n",
    "plt.legend()\n",
    "plt.show()"
   ]
  },
  {
   "cell_type": "code",
   "execution_count": 19,
   "metadata": {},
   "outputs": [
    {
     "data": {
      "image/png": "[encoded data removed]",
      "text/plain": [
       "<Figure size 432x288 with 1 Axes>"
      ]
     },
     "metadata": {
      "needs_background": "light"
     },
     "output_type": "display_data"
    }
   ],
   "source": [
    "plt.plot(history.history['accuracy'],label = 'Training accuracy')\n",
    "plt.plot(history.history['val_accuracy'],label = 'validation accuracy')\n",
    "plt.xlabel('# epochs')\n",
    "plt.ylabel('Accurary')\n",
    "plt.legend()\n",
    "plt.show()"
   ]
  },
  {
   "cell_type": "code",
   "execution_count": 44,
   "metadata": {},
   "outputs": [],
   "source": [
    "os.environ[\"OPENCV_VIDEOIO_PRIORITY_MSMF\"] = \"0\"\n",
    "face_clasfr = cv2.CascadeClassifier(r'C:\\Users\\yuggu\\Downloads\\haarcascade_frontalface_default.xml')\n",
    "source = cv2.VideoCapture(0)\n",
    "label_dict = {0:'Mask',1:'No Mask'}\n",
    "color_dict = {0:(0,255,0),1:(0,0,255)}"
   ]
  },
  {
   "cell_type": "code",
   "execution_count": 40,
   "metadata": {},
   "outputs": [],
   "source": [
    "from keras.models import load_model\n",
    "model = load_model('model-010.model')"
   ]
  },
  {
   "cell_type": "code",
   "execution_count": null,
   "metadata": {},
   "outputs": [],
   "source": [
    "\n",
    "while True:\n",
    "    ret,img = cv2.VideoCapture(0).read()\n",
    "    gray = cv2.cvtColor(img,cv2.COLOR_BGR2GRAY)\n",
    "    faces = face_clasfr.detectMultiScale(gray,1.3,5)\n",
    "    for x,y,w,h in faces:\n",
    "        face_img = gray[y:y+w,x:x+w]\n",
    "        resized = cv2.resize(face_img,(100,100))\n",
    "        normalized = resized/255.0\n",
    "        reshaped = np.reshape(normalized,(1,100,100,1))\n",
    "        result = model.predict(reshaped)\n",
    "        \n",
    "        label = np.argmax(result,axis = 1)[0]\n",
    "        cv2.rectangle(img,(x,y),(x+w,y+h),color_dict[label],2)\n",
    "        cv2.rectangle(img,(x,y-40),(x+w,y),color_dict[label],-1)\n",
    "        cv2.putText(img,label_dict[label],(x,y-10),cv2.FONT_HERSHEY_SIMPLEX,0.8,(255,255,255),2)\n",
    "        \n",
    "    cv2.imshow('LIVE',img)\n",
    "    key = cv2.waitKey(1)\n",
    "    if key == 27:\n",
    "        break\n",
    "cv2.destroyAllWindows()\n",
    "cv2.VideoCapture(0).release()"
   ]
  },
  {
   "cell_type": "code",
   "execution_count": null,
   "metadata": {},
   "outputs": [],
   "source": []
  }
 ],
 "metadata": {
  "kernelspec": {
   "display_name": "Python 3",
   "language": "python",
   "name": "python3"
  },
  "language_info": {
   "codemirror_mode": {
    "name": "ipython",
    "version": 3
   },
   "file_extension": ".py",
   "mimetype": "text/x-python",
   "name": "python",
   "nbconvert_exporter": "python",
   "pygments_lexer": "ipython3",
   "version": "3.7.9"
  }
 },
 "nbformat": 4,
 "nbformat_minor": 4
}
